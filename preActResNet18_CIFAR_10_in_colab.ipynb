{
  "nbformat": 4,
  "nbformat_minor": 0,
  "metadata": {
    "colab": {
      "name": "preActResNet18_CIFAR_10_in_colab.ipynb",
      "version": "0.3.2",
      "provenance": [],
      "include_colab_link": true
    },
    "kernelspec": {
      "name": "python3",
      "display_name": "Python 3"
    },
    "accelerator": "GPU"
  },
  "cells": [
    {
      "cell_type": "markdown",
      "metadata": {
        "id": "view-in-github",
        "colab_type": "text"
      },
      "source": [
        "<a href=\"https://colab.research.google.com/github/AI-MD/AI-MD.github.io/blob/master/preActResNet18_CIFAR_10_in_colab.ipynb\" target=\"_parent\"><img src=\"https://colab.research.google.com/assets/colab-badge.svg\" alt=\"Open In Colab\"/></a>"
      ]
    },
    {
      "cell_type": "code",
      "metadata": {
        "id": "KQzVKdA8YlFq",
        "colab_type": "code",
        "colab": {}
      },
      "source": [
        "LOG_DIR = '/tmp/log'\n",
        "get_ipython().system_raw(\n",
        "    'tensorboard --logdir {} --host 0.0.0.0 --port 6006 &'\n",
        "    .format(LOG_DIR)\n",
        ")"
      ],
      "execution_count": 0,
      "outputs": []
    },
    {
      "cell_type": "code",
      "metadata": {
        "id": "VFosqiNDYzPk",
        "colab_type": "code",
        "colab": {}
      },
      "source": [
        "import torch\n",
        "import torch.nn as nn\n",
        "\n",
        "import torch.optim as optim\n",
        "\n",
        "import torchvision\n",
        "from torch.utils.tensorboard import SummaryWriter\n",
        "import torchvision.transforms as transforms"
      ],
      "execution_count": 0,
      "outputs": []
    },
    {
      "cell_type": "code",
      "metadata": {
        "id": "vf8mB-KrY3DL",
        "colab_type": "code",
        "colab": {}
      },
      "source": [
        "%load_ext tensorboard"
      ],
      "execution_count": 0,
      "outputs": []
    },
    {
      "cell_type": "code",
      "metadata": {
        "id": "3qUuUQnyY46j",
        "colab_type": "code",
        "colab": {}
      },
      "source": [
        "writer = SummaryWriter()"
      ],
      "execution_count": 0,
      "outputs": []
    },
    {
      "cell_type": "code",
      "metadata": {
        "id": "MB5mKBmuY6mr",
        "colab_type": "code",
        "colab": {}
      },
      "source": [
        "device = 'cuda' if torch.cuda.is_available() else 'cpu'\n",
        "\n",
        "torch.manual_seed(777)\n",
        "if device =='cuda':\n",
        "    torch.cuda.manual_seed_all(777)"
      ],
      "execution_count": 0,
      "outputs": []
    },
    {
      "cell_type": "code",
      "metadata": {
        "id": "kFGauIG1Y9gD",
        "colab_type": "code",
        "colab": {
          "base_uri": "https://localhost:8080/",
          "height": 53
        },
        "outputId": "54a28229-0d7b-4a1d-dda6-9b580b17cfc6"
      },
      "source": [
        "transform_train = transforms.Compose([\n",
        "    transforms.RandomCrop(32, padding=4),\n",
        "    transforms.ToTensor(),\n",
        "    transforms.Normalize((0.4914, 0.4822, 0.4465), (0.2023, 0.1994, 0.2010)),\n",
        "])\n",
        "\n",
        "transform_test = transforms.Compose([\n",
        "    transforms.ToTensor(),\n",
        "    transforms.Normalize((0.4914, 0.4822, 0.4465), (0.2023, 0.1994, 0.2010)),\n",
        "])\n",
        "\n",
        "trainset = torchvision.datasets.CIFAR10(root='./cifar10', train=True,\n",
        "                                        download=True, transform=transform_train)\n",
        "trainloader = torch.utils.data.DataLoader(trainset, batch_size=128,\n",
        "                                          shuffle=True, num_workers=0)\n",
        "\n",
        "testset = torchvision.datasets.CIFAR10(root='./cifar10', train=False,\n",
        "                                       download=True, transform=transform_test)\n",
        "\n",
        "testloader = torch.utils.data.DataLoader(testset, batch_size=100,\n",
        "                                         shuffle=False, num_workers=0)\n",
        "\n",
        "classes = ('plane', 'car', 'bird', 'cat',\n",
        "           'deer', 'dog', 'frog', 'horse', 'ship', 'truck')"
      ],
      "execution_count": 19,
      "outputs": [
        {
          "output_type": "stream",
          "text": [
            "Files already downloaded and verified\n",
            "Files already downloaded and verified\n"
          ],
          "name": "stdout"
        }
      ]
    },
    {
      "cell_type": "code",
      "metadata": {
        "id": "RHk-QctNY-bq",
        "colab_type": "code",
        "colab": {
          "base_uri": "https://localhost:8080/",
          "height": 35
        },
        "outputId": "8c641ccd-0551-4a51-8857-f80e5a2d4ad4"
      },
      "source": [
        "import torch.nn.functional as F\n",
        "\n",
        "class PreActBlock(nn.Module):\n",
        "    '''Pre-activation version of the BasicBlock.'''\n",
        "    expansion = 1\n",
        "\n",
        "    def __init__(self, in_planes, planes, stride=1):\n",
        "        super(PreActBlock, self).__init__()\n",
        "        self.bn1 = nn.BatchNorm2d(in_planes)\n",
        "        self.conv1 = nn.Conv2d(in_planes, planes, kernel_size=3, stride=stride, padding=1, bias=False)\n",
        "        self.bn2 = nn.BatchNorm2d(planes)\n",
        "        self.conv2 = nn.Conv2d(planes, planes, kernel_size=3, stride=1, padding=1, bias=False)\n",
        "\n",
        "        if stride != 1 or in_planes != self.expansion*planes:\n",
        "            self.shortcut = nn.Sequential(\n",
        "                nn.Conv2d(in_planes, self.expansion*planes, kernel_size=1, stride=stride, bias=False)\n",
        "            )\n",
        "\n",
        "    def forward(self, x):\n",
        "        out = F.relu(self.bn1(x))\n",
        "        shortcut = self.shortcut(out) if hasattr(self, 'shortcut') else x\n",
        "        out = self.conv1(out)\n",
        "        out = self.conv2(F.relu(self.bn2(out)))\n",
        "        out += shortcut\n",
        "        return out\n",
        "\n",
        "\n",
        "class PreActBottleneck(nn.Module):\n",
        "    '''Pre-activation version of the original Bottleneck module.'''\n",
        "    expansion = 4\n",
        "\n",
        "    def __init__(self, in_planes, planes, stride=1):\n",
        "        super(PreActBottleneck, self).__init__()\n",
        "        self.bn1 = nn.BatchNorm2d(in_planes)\n",
        "        self.conv1 = nn.Conv2d(in_planes, planes, kernel_size=1, bias=False)\n",
        "        self.bn2 = nn.BatchNorm2d(planes)\n",
        "        self.conv2 = nn.Conv2d(planes, planes, kernel_size=3, stride=stride, padding=1, bias=False)\n",
        "        self.bn3 = nn.BatchNorm2d(planes)\n",
        "        self.conv3 = nn.Conv2d(planes, self.expansion*planes, kernel_size=1, bias=False)\n",
        "\n",
        "        if stride != 1 or in_planes != self.expansion*planes:\n",
        "            self.shortcut = nn.Sequential(\n",
        "                nn.Conv2d(in_planes, self.expansion*planes, kernel_size=1, stride=stride, bias=False)\n",
        "            )\n",
        "\n",
        "    def forward(self, x):\n",
        "        out = F.relu(self.bn1(x))\n",
        "        shortcut = self.shortcut(out) if hasattr(self, 'shortcut') else x\n",
        "        out = self.conv1(out)\n",
        "        out = self.conv2(F.relu(self.bn2(out)))\n",
        "        out = self.conv3(F.relu(self.bn3(out)))\n",
        "        out += shortcut\n",
        "        return out\n",
        "\n",
        "\n",
        "class PreActResNet(nn.Module):\n",
        "    def __init__(self, block, num_blocks, num_classes=10):\n",
        "        super(PreActResNet, self).__init__()\n",
        "        self.in_planes = 64\n",
        "\n",
        "        self.conv1 = nn.Conv2d(3, 64, kernel_size=3, stride=1, padding=1, bias=False)\n",
        "        self.layer1 = self._make_layer(block, 64, num_blocks[0], stride=1)\n",
        "        self.layer2 = self._make_layer(block, 128, num_blocks[1], stride=2)\n",
        "        self.layer3 = self._make_layer(block, 256, num_blocks[2], stride=2)\n",
        "        self.layer4 = self._make_layer(block, 512, num_blocks[3], stride=2)\n",
        "        self.linear = nn.Linear(512*block.expansion, num_classes)\n",
        "\n",
        "    def _make_layer(self, block, planes, num_blocks, stride):\n",
        "        strides = [stride] + [1]*(num_blocks-1)\n",
        "        layers = []\n",
        "        for stride in strides:\n",
        "            layers.append(block(self.in_planes, planes, stride))\n",
        "            self.in_planes = planes * block.expansion\n",
        "        return nn.Sequential(*layers)\n",
        "\n",
        "    def forward(self, x):\n",
        "        out = self.conv1(x)\n",
        "        out = self.layer1(out)\n",
        "        out = self.layer2(out)\n",
        "        out = self.layer3(out)\n",
        "        out = self.layer4(out)\n",
        "        out = F.avg_pool2d(out, 4)\n",
        "        out = out.view(out.size(0), -1)\n",
        "        out = self.linear(out)\n",
        "        return out\n",
        "\n",
        "\n",
        "def PreActResNet18():\n",
        "    return PreActResNet(PreActBlock, [2,2,2,2])\n",
        "\n",
        "def PreActResNet34():\n",
        "    return PreActResNet(PreActBlock, [3,4,6,3])\n",
        "\n",
        "def PreActResNet50():\n",
        "    return PreActResNet(PreActBottleneck, [3,4,6,3])\n",
        "\n",
        "def PreActResNet101():\n",
        "    return PreActResNet(PreActBottleneck, [3,4,23,3])\n",
        "\n",
        "def PreActResNet152():\n",
        "    return PreActResNet(PreActBottleneck, [3,8,36,3])\n",
        "\n",
        "\n",
        "def test():\n",
        "    net = PreActResNet18()\n",
        "    y = net((torch.randn(1,3,32,32)))\n",
        "    print(y.size())\n",
        "\n",
        "test()"
      ],
      "execution_count": 8,
      "outputs": [
        {
          "output_type": "stream",
          "text": [
            "torch.Size([1, 10])\n"
          ],
          "name": "stdout"
        }
      ]
    },
    {
      "cell_type": "code",
      "metadata": {
        "id": "0DpTghSKZFmS",
        "colab_type": "code",
        "colab": {}
      },
      "source": [
        "net = PreActResNet18()\n",
        "net = net.to(device)"
      ],
      "execution_count": 0,
      "outputs": []
    },
    {
      "cell_type": "code",
      "metadata": {
        "id": "5WIDeb8jZfBi",
        "colab_type": "code",
        "colab": {}
      },
      "source": [
        "import torch.backends.cudnn as cudnn\n",
        "\n",
        "\n",
        "if device == 'cuda':\n",
        "    net = torch.nn.DataParallel(net)\n",
        "    cudnn.benchmark = True"
      ],
      "execution_count": 0,
      "outputs": []
    },
    {
      "cell_type": "code",
      "metadata": {
        "id": "enL2b--AZo65",
        "colab_type": "code",
        "colab": {
          "base_uri": "https://localhost:8080/",
          "height": 1295
        },
        "outputId": "b9fa55ed-fa3b-4e4f-ba70-f29fc9660b34"
      },
      "source": [
        "net"
      ],
      "execution_count": 13,
      "outputs": [
        {
          "output_type": "execute_result",
          "data": {
            "text/plain": [
              "DataParallel(\n",
              "  (module): PreActResNet(\n",
              "    (conv1): Conv2d(3, 64, kernel_size=(3, 3), stride=(1, 1), padding=(1, 1), bias=False)\n",
              "    (layer1): Sequential(\n",
              "      (0): PreActBlock(\n",
              "        (bn1): BatchNorm2d(64, eps=1e-05, momentum=0.1, affine=True, track_running_stats=True)\n",
              "        (conv1): Conv2d(64, 64, kernel_size=(3, 3), stride=(1, 1), padding=(1, 1), bias=False)\n",
              "        (bn2): BatchNorm2d(64, eps=1e-05, momentum=0.1, affine=True, track_running_stats=True)\n",
              "        (conv2): Conv2d(64, 64, kernel_size=(3, 3), stride=(1, 1), padding=(1, 1), bias=False)\n",
              "      )\n",
              "      (1): PreActBlock(\n",
              "        (bn1): BatchNorm2d(64, eps=1e-05, momentum=0.1, affine=True, track_running_stats=True)\n",
              "        (conv1): Conv2d(64, 64, kernel_size=(3, 3), stride=(1, 1), padding=(1, 1), bias=False)\n",
              "        (bn2): BatchNorm2d(64, eps=1e-05, momentum=0.1, affine=True, track_running_stats=True)\n",
              "        (conv2): Conv2d(64, 64, kernel_size=(3, 3), stride=(1, 1), padding=(1, 1), bias=False)\n",
              "      )\n",
              "    )\n",
              "    (layer2): Sequential(\n",
              "      (0): PreActBlock(\n",
              "        (bn1): BatchNorm2d(64, eps=1e-05, momentum=0.1, affine=True, track_running_stats=True)\n",
              "        (conv1): Conv2d(64, 128, kernel_size=(3, 3), stride=(2, 2), padding=(1, 1), bias=False)\n",
              "        (bn2): BatchNorm2d(128, eps=1e-05, momentum=0.1, affine=True, track_running_stats=True)\n",
              "        (conv2): Conv2d(128, 128, kernel_size=(3, 3), stride=(1, 1), padding=(1, 1), bias=False)\n",
              "        (shortcut): Sequential(\n",
              "          (0): Conv2d(64, 128, kernel_size=(1, 1), stride=(2, 2), bias=False)\n",
              "        )\n",
              "      )\n",
              "      (1): PreActBlock(\n",
              "        (bn1): BatchNorm2d(128, eps=1e-05, momentum=0.1, affine=True, track_running_stats=True)\n",
              "        (conv1): Conv2d(128, 128, kernel_size=(3, 3), stride=(1, 1), padding=(1, 1), bias=False)\n",
              "        (bn2): BatchNorm2d(128, eps=1e-05, momentum=0.1, affine=True, track_running_stats=True)\n",
              "        (conv2): Conv2d(128, 128, kernel_size=(3, 3), stride=(1, 1), padding=(1, 1), bias=False)\n",
              "      )\n",
              "    )\n",
              "    (layer3): Sequential(\n",
              "      (0): PreActBlock(\n",
              "        (bn1): BatchNorm2d(128, eps=1e-05, momentum=0.1, affine=True, track_running_stats=True)\n",
              "        (conv1): Conv2d(128, 256, kernel_size=(3, 3), stride=(2, 2), padding=(1, 1), bias=False)\n",
              "        (bn2): BatchNorm2d(256, eps=1e-05, momentum=0.1, affine=True, track_running_stats=True)\n",
              "        (conv2): Conv2d(256, 256, kernel_size=(3, 3), stride=(1, 1), padding=(1, 1), bias=False)\n",
              "        (shortcut): Sequential(\n",
              "          (0): Conv2d(128, 256, kernel_size=(1, 1), stride=(2, 2), bias=False)\n",
              "        )\n",
              "      )\n",
              "      (1): PreActBlock(\n",
              "        (bn1): BatchNorm2d(256, eps=1e-05, momentum=0.1, affine=True, track_running_stats=True)\n",
              "        (conv1): Conv2d(256, 256, kernel_size=(3, 3), stride=(1, 1), padding=(1, 1), bias=False)\n",
              "        (bn2): BatchNorm2d(256, eps=1e-05, momentum=0.1, affine=True, track_running_stats=True)\n",
              "        (conv2): Conv2d(256, 256, kernel_size=(3, 3), stride=(1, 1), padding=(1, 1), bias=False)\n",
              "      )\n",
              "    )\n",
              "    (layer4): Sequential(\n",
              "      (0): PreActBlock(\n",
              "        (bn1): BatchNorm2d(256, eps=1e-05, momentum=0.1, affine=True, track_running_stats=True)\n",
              "        (conv1): Conv2d(256, 512, kernel_size=(3, 3), stride=(2, 2), padding=(1, 1), bias=False)\n",
              "        (bn2): BatchNorm2d(512, eps=1e-05, momentum=0.1, affine=True, track_running_stats=True)\n",
              "        (conv2): Conv2d(512, 512, kernel_size=(3, 3), stride=(1, 1), padding=(1, 1), bias=False)\n",
              "        (shortcut): Sequential(\n",
              "          (0): Conv2d(256, 512, kernel_size=(1, 1), stride=(2, 2), bias=False)\n",
              "        )\n",
              "      )\n",
              "      (1): PreActBlock(\n",
              "        (bn1): BatchNorm2d(512, eps=1e-05, momentum=0.1, affine=True, track_running_stats=True)\n",
              "        (conv1): Conv2d(512, 512, kernel_size=(3, 3), stride=(1, 1), padding=(1, 1), bias=False)\n",
              "        (bn2): BatchNorm2d(512, eps=1e-05, momentum=0.1, affine=True, track_running_stats=True)\n",
              "        (conv2): Conv2d(512, 512, kernel_size=(3, 3), stride=(1, 1), padding=(1, 1), bias=False)\n",
              "      )\n",
              "    )\n",
              "    (linear): Linear(in_features=512, out_features=10, bias=True)\n",
              "  )\n",
              ")"
            ]
          },
          "metadata": {
            "tags": []
          },
          "execution_count": 13
        }
      ]
    },
    {
      "cell_type": "code",
      "metadata": {
        "id": "j7psXIZGZ3hx",
        "colab_type": "code",
        "colab": {}
      },
      "source": [
        "criterion = nn.CrossEntropyLoss()\n",
        "optimizer = optim.SGD(net.parameters(), lr=0.1, momentum=0.9, weight_decay=5e-4)\n",
        "lr_sche = optim.lr_scheduler.StepLR(optimizer, step_size=10, gamma=0.5)"
      ],
      "execution_count": 0,
      "outputs": []
    },
    {
      "cell_type": "code",
      "metadata": {
        "id": "t7rDU7xlaJvx",
        "colab_type": "code",
        "colab": {}
      },
      "source": [
        "def acc_check(net, test_set, epoch, save=1):\n",
        "    correct = 0\n",
        "    total = 0\n",
        "    with torch.no_grad():\n",
        "        for data in test_set:\n",
        "            images, labels = data\n",
        "            images = images.to(device)\n",
        "            labels = labels.to(device)\n",
        "            outputs = net(images)\n",
        "\n",
        "            _, predicted = torch.max(outputs.data, 1)\n",
        "\n",
        "            total += labels.size(0)\n",
        "            correct += (predicted == labels).sum().item()\n",
        "    \n",
        "    acc = (100 * correct / total)\n",
        "    print('Accuracy of the network on the 10000 test images: %d %%' % acc)\n",
        "    \n",
        "    writer.add_scalar('Test/Accu', acc, epoch+1)\n",
        "    \n",
        "    if save:\n",
        "        torch.save(net.state_dict(), \"./preact_resnet_model/model_epoch_{}_acc_{}.pth\".format(epoch, int(acc)))\n",
        "    return acc"
      ],
      "execution_count": 0,
      "outputs": []
    },
    {
      "cell_type": "code",
      "metadata": {
        "id": "HkgHceDBaVDA",
        "colab_type": "code",
        "colab": {}
      },
      "source": [
        "#최초 한번만 실행\n",
        "!mkdir preact_resnet_model"
      ],
      "execution_count": 0,
      "outputs": []
    },
    {
      "cell_type": "code",
      "metadata": {
        "id": "BCR5p58tabkn",
        "colab_type": "code",
        "colab": {
          "base_uri": "https://localhost:8080/",
          "height": 2771
        },
        "outputId": "ee5fb3c9-1306-42ce-ce3e-6f43a70bcfe2"
      },
      "source": [
        "epochs=150\n",
        "\n",
        "for epoch in range(epochs):  # loop over the dataset multiple times\n",
        "\n",
        "    running_loss = 0.0\n",
        "       \n",
        "    lr_sche.step()\n",
        "    correct = 0\n",
        "    total = 0\n",
        "    \n",
        "    for i, data in enumerate(trainloader, 0):\n",
        "        # get the inputs\n",
        "        inputs, labels = data\n",
        "        inputs = inputs.to(device)\n",
        "        labels = labels.to(device)\n",
        "\n",
        "        # zero the parameter gradients\n",
        "        optimizer.zero_grad()\n",
        "\n",
        "        # forward + backward + optimize\n",
        "        outputs = net(inputs)\n",
        "        loss = criterion(outputs, labels)\n",
        "        loss.backward()\n",
        "        optimizer.step()\n",
        "\n",
        "        \n",
        "        for name, param in net.named_parameters():\n",
        "            if 'bn' not in name:\n",
        "                writer.add_histogram(name, param, epoch)\n",
        "        \n",
        "        _, predicted = torch.max(outputs, 1)\n",
        "        total += labels.size(0)\n",
        "        correct += (predicted == labels).sum().item()\n",
        "        \n",
        "        # print statistics\n",
        "        running_loss += loss.item()\n",
        "        if i % 30 == 29:    # print every 30 mini-batches\n",
        "            \n",
        "            print('[%d, %5d] loss: %.3f' %\n",
        "                  (epoch + 1, i + 1, running_loss / 30))\n",
        "            running_loss = 0.0\n",
        "            print('[epoch: %d, batch: %5d] Accu: %.3f' %(epoch + 1, i+1, 100*correct/total))\n",
        "        \n",
        "        if i % 2 == 0:\n",
        "            niter = epoch * len(trainloader) + i\n",
        "            writer.add_scalar('Train/Loss', loss.item(), niter)\n",
        "            writer.add_scalar('Train/Accu', 100 * correct/total, niter)\n",
        "        \n",
        "        \n",
        "    #Check Accuracy\n",
        "    acc = acc_check(net, testloader, epoch, save=1)\n",
        "    \n",
        "    \n",
        "\n",
        "print('Finished Training')\n",
        "\n",
        "\n",
        "\n"
      ],
      "execution_count": 0,
      "outputs": [
        {
          "output_type": "stream",
          "text": [
            "[1,    30] loss: 1.535\n",
            "[epoch: 1, batch:    30] Accu: 42.917\n",
            "[1,    60] loss: 1.496\n",
            "[epoch: 1, batch:    60] Accu: 43.242\n",
            "[1,    90] loss: 1.456\n",
            "[epoch: 1, batch:    90] Accu: 44.540\n",
            "[1,   120] loss: 1.379\n",
            "[epoch: 1, batch:   120] Accu: 45.365\n",
            "[1,   150] loss: 1.367\n",
            "[epoch: 1, batch:   150] Accu: 46.109\n",
            "[1,   180] loss: 1.359\n",
            "[epoch: 1, batch:   180] Accu: 46.727\n",
            "[1,   210] loss: 1.305\n",
            "[epoch: 1, batch:   210] Accu: 47.396\n",
            "[1,   240] loss: 1.278\n",
            "[epoch: 1, batch:   240] Accu: 48.141\n",
            "[1,   270] loss: 1.260\n",
            "[epoch: 1, batch:   270] Accu: 48.869\n",
            "[1,   300] loss: 1.174\n",
            "[epoch: 1, batch:   300] Accu: 49.779\n",
            "[1,   330] loss: 1.196\n",
            "[epoch: 1, batch:   330] Accu: 50.414\n",
            "[1,   360] loss: 1.145\n",
            "[epoch: 1, batch:   360] Accu: 51.128\n",
            "[1,   390] loss: 1.088\n",
            "[epoch: 1, batch:   390] Accu: 51.861\n",
            "Accuracy of the network on the 10000 test images: 56 %\n",
            "[2,    30] loss: 1.062\n",
            "[epoch: 2, batch:    30] Accu: 62.604\n",
            "[2,    60] loss: 1.063\n",
            "[epoch: 2, batch:    60] Accu: 62.565\n",
            "[2,    90] loss: 1.066\n",
            "[epoch: 2, batch:    90] Accu: 62.083\n",
            "[2,   120] loss: 1.034\n",
            "[epoch: 2, batch:   120] Accu: 62.409\n",
            "[2,   150] loss: 1.014\n",
            "[epoch: 2, batch:   150] Accu: 62.677\n",
            "[2,   180] loss: 0.996\n",
            "[epoch: 2, batch:   180] Accu: 63.008\n",
            "[2,   210] loss: 0.987\n",
            "[epoch: 2, batch:   210] Accu: 63.281\n",
            "[2,   240] loss: 0.961\n",
            "[epoch: 2, batch:   240] Accu: 63.727\n",
            "[2,   270] loss: 0.915\n",
            "[epoch: 2, batch:   270] Accu: 64.144\n",
            "[2,   300] loss: 0.912\n",
            "[epoch: 2, batch:   300] Accu: 64.471\n",
            "[2,   330] loss: 0.898\n",
            "[epoch: 2, batch:   330] Accu: 64.827\n",
            "[2,   360] loss: 0.880\n",
            "[epoch: 2, batch:   360] Accu: 65.143\n",
            "[2,   390] loss: 0.879\n",
            "[epoch: 2, batch:   390] Accu: 65.411\n",
            "Accuracy of the network on the 10000 test images: 65 %\n",
            "[3,    30] loss: 0.836\n",
            "[epoch: 3, batch:    30] Accu: 70.573\n",
            "[3,    60] loss: 0.830\n",
            "[epoch: 3, batch:    60] Accu: 70.820\n",
            "[3,    90] loss: 0.825\n",
            "[epoch: 3, batch:    90] Accu: 70.903\n",
            "[3,   120] loss: 0.829\n",
            "[epoch: 3, batch:   120] Accu: 70.957\n",
            "[3,   150] loss: 0.800\n",
            "[epoch: 3, batch:   150] Accu: 71.292\n",
            "[3,   180] loss: 0.776\n",
            "[epoch: 3, batch:   180] Accu: 71.619\n",
            "[3,   210] loss: 0.802\n",
            "[epoch: 3, batch:   210] Accu: 71.741\n",
            "[3,   240] loss: 0.749\n",
            "[epoch: 3, batch:   240] Accu: 72.031\n",
            "[3,   270] loss: 0.775\n",
            "[epoch: 3, batch:   270] Accu: 72.205\n",
            "[3,   300] loss: 0.725\n",
            "[epoch: 3, batch:   300] Accu: 72.495\n",
            "[3,   330] loss: 0.774\n",
            "[epoch: 3, batch:   330] Accu: 72.524\n",
            "[3,   360] loss: 0.713\n",
            "[epoch: 3, batch:   360] Accu: 72.658\n",
            "[3,   390] loss: 0.720\n",
            "[epoch: 3, batch:   390] Accu: 72.851\n",
            "Accuracy of the network on the 10000 test images: 71 %\n",
            "[4,    30] loss: 0.705\n",
            "[epoch: 4, batch:    30] Accu: 75.521\n",
            "[4,    60] loss: 0.655\n",
            "[epoch: 4, batch:    60] Accu: 76.615\n",
            "[4,    90] loss: 0.693\n",
            "[epoch: 4, batch:    90] Accu: 76.762\n",
            "[4,   120] loss: 0.677\n",
            "[epoch: 4, batch:   120] Accu: 76.602\n",
            "[4,   150] loss: 0.691\n",
            "[epoch: 4, batch:   150] Accu: 76.620\n",
            "[4,   180] loss: 0.685\n",
            "[epoch: 4, batch:   180] Accu: 76.545\n",
            "[4,   210] loss: 0.653\n",
            "[epoch: 4, batch:   210] Accu: 76.704\n",
            "[4,   240] loss: 0.704\n",
            "[epoch: 4, batch:   240] Accu: 76.497\n",
            "[4,   270] loss: 0.668\n",
            "[epoch: 4, batch:   270] Accu: 76.493\n",
            "[4,   300] loss: 0.681\n",
            "[epoch: 4, batch:   300] Accu: 76.510\n",
            "[4,   330] loss: 0.647\n",
            "[epoch: 4, batch:   330] Accu: 76.555\n",
            "[4,   360] loss: 0.675\n",
            "[epoch: 4, batch:   360] Accu: 76.547\n",
            "[4,   390] loss: 0.631\n",
            "[epoch: 4, batch:   390] Accu: 76.729\n",
            "Accuracy of the network on the 10000 test images: 74 %\n",
            "[5,    30] loss: 0.617\n",
            "[epoch: 5, batch:    30] Accu: 79.609\n",
            "[5,    60] loss: 0.611\n",
            "[epoch: 5, batch:    60] Accu: 79.427\n",
            "[5,    90] loss: 0.624\n",
            "[epoch: 5, batch:    90] Accu: 79.349\n",
            "[5,   120] loss: 0.608\n",
            "[epoch: 5, batch:   120] Accu: 79.186\n",
            "[5,   150] loss: 0.596\n",
            "[epoch: 5, batch:   150] Accu: 79.208\n",
            "[5,   180] loss: 0.631\n",
            "[epoch: 5, batch:   180] Accu: 79.049\n",
            "[5,   210] loss: 0.615\n",
            "[epoch: 5, batch:   210] Accu: 79.059\n",
            "[5,   240] loss: 0.611\n",
            "[epoch: 5, batch:   240] Accu: 78.942\n",
            "[5,   270] loss: 0.602\n",
            "[epoch: 5, batch:   270] Accu: 79.025\n",
            "[5,   300] loss: 0.575\n",
            "[epoch: 5, batch:   300] Accu: 79.148\n",
            "[5,   330] loss: 0.582\n",
            "[epoch: 5, batch:   330] Accu: 79.254\n",
            "[5,   360] loss: 0.634\n",
            "[epoch: 5, batch:   360] Accu: 79.204\n",
            "[5,   390] loss: 0.620\n",
            "[epoch: 5, batch:   390] Accu: 79.157\n",
            "Accuracy of the network on the 10000 test images: 74 %\n",
            "[6,    30] loss: 0.560\n",
            "[epoch: 6, batch:    30] Accu: 80.755\n",
            "[6,    60] loss: 0.568\n",
            "[epoch: 6, batch:    60] Accu: 80.716\n",
            "[6,    90] loss: 0.556\n",
            "[epoch: 6, batch:    90] Accu: 80.417\n",
            "[6,   120] loss: 0.514\n",
            "[epoch: 6, batch:   120] Accu: 80.723\n",
            "[6,   150] loss: 0.542\n",
            "[epoch: 6, batch:   150] Accu: 80.807\n",
            "[6,   180] loss: 0.601\n",
            "[epoch: 6, batch:   180] Accu: 80.625\n",
            "[6,   210] loss: 0.540\n",
            "[epoch: 6, batch:   210] Accu: 80.722\n",
            "[6,   240] loss: 0.539\n",
            "[epoch: 6, batch:   240] Accu: 80.785\n",
            "[6,   270] loss: 0.579\n",
            "[epoch: 6, batch:   270] Accu: 80.723\n"
          ],
          "name": "stdout"
        }
      ]
    },
    {
      "cell_type": "code",
      "metadata": {
        "id": "1nB9FSc8a6Kw",
        "colab_type": "code",
        "colab": {}
      },
      "source": [
        "correct = 0\n",
        "total = 0\n",
        "\n",
        "with torch.no_grad():\n",
        "    for data in testloader:\n",
        "        images, labels = data\n",
        "        images = images.to(device)\n",
        "        labels = labels.to(device)\n",
        "        outputs = resnet50(images)\n",
        "        \n",
        "        _, predicted = torch.max(outputs.data, 1)\n",
        "        \n",
        "        total += labels.size(0)\n",
        "        \n",
        "        correct += (predicted == labels).sum().item()\n",
        "\n",
        "print('Accuracy of the network on the 10000 test images: %d %%' % (\n",
        "    100 * correct / total))\n",
        "\n",
        "writer.add_scalar('Test_Complete/Accu', 100*correct/total, 0)"
      ],
      "execution_count": 0,
      "outputs": []
    },
    {
      "cell_type": "code",
      "metadata": {
        "id": "kv4aT_tKbIcg",
        "colab_type": "code",
        "colab": {}
      },
      "source": [
        "writer.close()"
      ],
      "execution_count": 0,
      "outputs": []
    },
    {
      "cell_type": "code",
      "metadata": {
        "id": "zg3BTNnebI_h",
        "colab_type": "code",
        "colab": {}
      },
      "source": [
        "%tensorboard --logdir=runs"
      ],
      "execution_count": 0,
      "outputs": []
    }
  ]
}